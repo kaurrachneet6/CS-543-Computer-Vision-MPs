{
 "cells": [
  {
   "cell_type": "markdown",
   "metadata": {},
   "source": [
    "# Single-View Geometry (Python)\n",
    "\n",
    "## Usage\n",
    "This code snippet provides an overall code structure and some interactive plot interfaces for the *Single-View Geometry* section of Assignment 3. In [main function](#Main-function), we outline the required functionalities step by step. Some of the functions which involves interactive plots are already provided, but [the rest](#Your-implementation) are left for you to implement.\n",
    "\n",
    "## Package installation\n",
    "- You will need [GUI backend](https://matplotlib.org/faq/usage_faq.html#what-is-a-backend) to enable interactive plots in `matplotlib`.\n",
    "- In this code, we use `tkinter` package. Installation instruction can be found [here](https://anaconda.org/anaconda/tk)."
   ]
  },
  {
   "cell_type": "markdown",
   "metadata": {},
   "source": [
    "# Common imports"
   ]
  },
  {
   "cell_type": "code",
   "execution_count": 4,
   "metadata": {},
   "outputs": [],
   "source": [
    "%matplotlib tk\n",
    "import matplotlib.pyplot as plt\n",
    "import numpy as np\n",
    "import math\n",
    "from PIL import Image\n",
    "from sympy import solve_poly_system\n",
    "from sympy.abc import x, y, z"
   ]
  },
  {
   "cell_type": "markdown",
   "metadata": {},
   "source": [
    "# Provided functions"
   ]
  },
  {
   "cell_type": "code",
   "execution_count": 5,
   "metadata": {},
   "outputs": [],
   "source": [
    "def get_input_lines(im, min_lines=3):\n",
    "    \"\"\"\n",
    "    Allows user to input line segments; computes centers and directions.\n",
    "    Inputs:\n",
    "        im: np.ndarray of shape (height, width, 3)\n",
    "        min_lines: minimum number of lines required\n",
    "    Returns:\n",
    "        n: number of lines from input\n",
    "        lines: np.ndarray of shape (3, n)\n",
    "            where each column denotes the parameters of the line equation\n",
    "        centers: np.ndarray of shape (3, n)\n",
    "            where each column denotes the homogeneous coordinates of the centers\n",
    "    \"\"\"\n",
    "    n = 0\n",
    "    lines = np.zeros((3, 0))\n",
    "    centers = np.zeros((3, 0))\n",
    "\n",
    "    plt.figure()\n",
    "    plt.imshow(im)\n",
    "    print('Set at least %d lines to compute vanishing point' % min_lines)\n",
    "    while True:\n",
    "        print('Click the two endpoints, use the right key to undo, and use the middle key to stop input')\n",
    "        clicked = plt.ginput(2, timeout=0, show_clicks=True)\n",
    "        if not clicked or len(clicked) < 2:\n",
    "            if n < min_lines:\n",
    "                print('Need at least %d lines, you have %d now' % (min_lines, n))\n",
    "                continue\n",
    "            else:\n",
    "                # Stop getting lines if number of lines is enough\n",
    "                break\n",
    "\n",
    "        # Unpack user inputs and save as homogeneous coordinates\n",
    "        pt1 = np.array([clicked[0][0], clicked[0][1], 1])\n",
    "        pt2 = np.array([clicked[1][0], clicked[1][1], 1])\n",
    "        # Get line equation using cross product\n",
    "        # Line equation: line[0] * x + line[1] * y + line[2] = 0\n",
    "        line = np.cross(pt1, pt2)\n",
    "        lines = np.append(lines, line.reshape((3, 1)), axis=1)\n",
    "        # Get center coordinate of the line segment\n",
    "        center = (pt1 + pt2) / 2\n",
    "        centers = np.append(centers, center.reshape((3, 1)), axis=1)\n",
    "\n",
    "        # Plot line segment\n",
    "        plt.plot([pt1[0], pt2[0]], [pt1[1], pt2[1]], color='b')\n",
    "\n",
    "        n += 1\n",
    "    return n, lines, centers"
   ]
  },
  {
   "cell_type": "code",
   "execution_count": 6,
   "metadata": {},
   "outputs": [],
   "source": [
    "def plot_lines_and_vp(im, lines, vp):\n",
    "    \"\"\"\n",
    "    Plots user-input lines and the calculated vanishing point.\n",
    "    Inputs:\n",
    "        im: np.ndarray of shape (height, width, 3)\n",
    "        lines: np.ndarray of shape (3, n)\n",
    "            where each column denotes the parameters of the line equation\n",
    "        vp: np.ndarray of shape (3, )\n",
    "    \"\"\"\n",
    "    bx1 = min(1, vp[0] / vp[2]) - 10\n",
    "    bx2 = max(im.shape[1], vp[0] / vp[2]) + 10\n",
    "    by1 = min(1, vp[1] / vp[2]) - 10\n",
    "    by2 = max(im.shape[0], vp[1] / vp[2]) + 10\n",
    "\n",
    "    plt.figure()\n",
    "    plt.imshow(im)\n",
    "    for i in range(lines.shape[1]):\n",
    "        if lines[0, i] < lines[1, i]:\n",
    "            pt1 = np.cross(np.array([1, 0, -bx1]), lines[:, i])\n",
    "            pt2 = np.cross(np.array([1, 0, -bx2]), lines[:, i])\n",
    "        else:\n",
    "            pt1 = np.cross(np.array([0, 1, -by1]), lines[:, i])\n",
    "            pt2 = np.cross(np.array([0, 1, -by2]), lines[:, i])\n",
    "        pt1 = pt1 / pt1[2]\n",
    "        pt2 = pt2 / pt2[2]\n",
    "        plt.plot([pt1[0], pt2[0]], [pt1[1], pt2[1]], 'g')\n",
    "\n",
    "    plt.plot(vp[0] / vp[2], vp[1] / vp[2], 'ro')\n",
    "    plt.show()"
   ]
  },
  {
   "cell_type": "code",
   "execution_count": 7,
   "metadata": {},
   "outputs": [],
   "source": [
    "def get_top_and_bottom_coordinates(im, obj):\n",
    "    \"\"\"\n",
    "    For a specific object, prompts user to record the top coordinate and the bottom coordinate in the image.\n",
    "    Inputs:\n",
    "        im: np.ndarray of shape (height, width, 3)\n",
    "        obj: string, object name\n",
    "    Returns:\n",
    "        coord: np.ndarray of shape (3, 2)\n",
    "            where coord[:, 0] is the homogeneous coordinate of the top of the object and coord[:, 1] is the homogeneous\n",
    "            coordinate of the bottom\n",
    "    \"\"\"\n",
    "    plt.figure()\n",
    "    plt.imshow(im)\n",
    "\n",
    "    print('Click on the top coordinate of %s' % obj)\n",
    "    clicked = plt.ginput(1, timeout=0, show_clicks=True)\n",
    "    x1, y1 = clicked[0]\n",
    "    # Uncomment this line to enable a vertical line to help align the two coordinates\n",
    "    # plt.plot([x1, x1], [0, im.shape[0]], 'b')\n",
    "    print('Click on the bottom coordinate of %s' % obj)\n",
    "    clicked = plt.ginput(1, timeout=0, show_clicks=True)\n",
    "    x2, y2 = clicked[0]\n",
    "\n",
    "    plt.plot([x1, x2], [y1, y2], 'b')\n",
    "\n",
    "    return np.array([[x1, x2], [y1, y2], [1, 1]])"
   ]
  },
  {
   "cell_type": "markdown",
   "metadata": {},
   "source": [
    "# Your implementation"
   ]
  },
  {
   "cell_type": "code",
   "execution_count": 8,
   "metadata": {},
   "outputs": [],
   "source": [
    "#Takes the input as number of vanishing lines, coordinates of the vanishing lines and their centers\n",
    "def get_vanishing_point(n, lines, centers):\n",
    "    \"\"\"\n",
    "    Solves for the vanishing point using the user-input lines.\n",
    "    \"\"\"\n",
    "    homo_points =np.zeros((int(n*(n-1)/2), 3)) #Points in 3D homogeneous coordinates\n",
    "    count = 0\n",
    "    #Taking the intersection of all vanishing lines 2 at a time and calculating the intersection points\n",
    "    for i in range(n):\n",
    "        for j in range(i+1, n):\n",
    "            homo_points[count,:] = np.cross(lines[:, i], lines[:, j])\n",
    "            count+=1\n",
    "    \n",
    "    #Points in 3D homogeneous coordinates with last entry normalized as 1\n",
    "    points = np.array([homo_points[i]/homo_points[i][-1] for i in range(homo_points.shape[0])][:2])\n",
    "    \n",
    "    #Averaging all the intersection points to get a vanishing point where approximately all the vanishing lines intersect\n",
    "    vans_point = points.mean(axis = 0)\n",
    "    print ('Vanishing Point = ', vans_point)\n",
    "    return vans_point"
   ]
  },
  {
   "cell_type": "code",
   "execution_count": 9,
   "metadata": {},
   "outputs": [],
   "source": [
    "#Takes the input as the calculated vanishing points \n",
    "def get_horizon_line(vansh_points):\n",
    "    \"\"\"\n",
    "    Calculates the ground horizon line.\n",
    "    \"\"\"\n",
    "    horizon_line = np.cross(vansh_points[0], vansh_points[1]) #Intersection line of the two horizontal vanishing points \n",
    "    return horizon_line"
   ]
  },
  {
   "cell_type": "code",
   "execution_count": 23,
   "metadata": {},
   "outputs": [],
   "source": [
    "#Takes the input as the image and the vanishing points' coordinates\n",
    "def plot_horizon_line(im, vansh_points):\n",
    "    \"\"\"\n",
    "    Plots the horizon line.\n",
    "    \"\"\"\n",
    "    #Taking the 2 horizontal vanishing points to draw a horizon line\n",
    "    plt.figure()\n",
    "    plt.imshow(im)\n",
    "    plt.plot([vansh_points[0][0], vansh_points[0][1]], [vansh_points[1][0], vansh_points[1][1]], 'g')\n",
    "    plt.plot(vansh_points[0][0], vansh_points[1][0], 'ro')\n",
    "    plt.plot(vansh_points[0][1], vansh_points[1][1], 'ro')\n",
    "    plt.savefig('horizon.jpg')\n",
    "    plt.show()"
   ]
  },
  {
   "cell_type": "code",
   "execution_count": 11,
   "metadata": {},
   "outputs": [],
   "source": [
    "#Takes the input as the vanishing points' coordinates\n",
    "def get_camera_parameters(vansh_points):\n",
    "    \"\"\"\n",
    "    Computes the camera parameters. Hint: The SymPy package is suitable for this.\n",
    "    \"\"\"\n",
    "    from sympy.abc import x, y, z\n",
    "    w = np.array([[z**2, 0, -x*(z**2)], [0, z**2, -y*(z**2)], [-x*(z**2), -y*(z**2), (x**2)*(z**2) + (y**2)*(z**2) + 1 ]]) \n",
    "    #Using orthogonal points, w = K^(-T)*K^(-1)\n",
    "    poly1 = np.dot(np.dot(vansh_points[:, 0], w), vansh_points[:, 1])\n",
    "    poly2 = np.dot(np.dot(vansh_points[:, 0], w), vansh_points[:, 2])\n",
    "    poly3 = np.dot(np.dot(vansh_points[:, 1], w), vansh_points[:, 2])\n",
    "    print (poly1, poly2, poly3)\n",
    "    solutions = solve_poly_system([poly1, poly2, poly3], x, y, z) #Solving the polynomial system with 3 polynomials \n",
    "    print (solutions)\n",
    "    #Using u, v must be in image bounds and f>0\n",
    "    if solutions[0][2]>0:\n",
    "        solution = solutions[0]\n",
    "    else:\n",
    "        solution = solutions[1]\n",
    "    u = solution[0]\n",
    "    v = solution[1]\n",
    "    f = 1./solution[2]\n",
    "    print ('u0 = ', u, 'v0 = ', v, 'f = ', f)   \n",
    "    K = np.array([[f, 0., u], [0, f, v], [0, 0, 1]]) #Forming the K matrix using three points are orthogonal \n",
    "    return f, u, v"
   ]
  },
  {
   "cell_type": "code",
   "execution_count": 60,
   "metadata": {},
   "outputs": [],
   "source": [
    "#Takes the input as vanishing points, focal length, v and v (coordinates for the principal point)\n",
    "def get_rotation_matrix(vansh_points, focal, u1, v1):\n",
    "    \"\"\"\n",
    "    Computes the rotation matrix using the camera parameters.\n",
    "    \"\"\"\n",
    "    K = np.array([[focal, 0., u1], [0, focal, v1], [0, 0, 1]]) #Forming the K matrix using three points are orthogonal \n",
    "    #Right vanishing point = x-direction\n",
    "    #Left vansihing point = z-direction\n",
    "    #Vertical vanishing point = y-direction\n",
    "    \n",
    "    K =(K.astype('float'))\n",
    "    #Solving for lambda_i \n",
    "    lambda1 = 1./np.linalg.norm(np.dot(np.linalg.inv(K), vansh_points[:,1])) #Right vanishing point = x-direction\n",
    "    lambda2 = 1./np.linalg.norm(np.dot(np.linalg.inv(K), vansh_points[:,2])) #Vertical vanishing point = y-direction\n",
    "    lambda3 = 1./np.linalg.norm(np.dot(np.linalg.inv(K), vansh_points[:,0])) #Left vansihing point = z-direction\n",
    "    R1 = lambda1*np.dot(np.linalg.inv(K), vansh_points[:,1]) #Right vanishing point = x-direction\n",
    "    R2 = lambda2*np.dot(np.linalg.inv(K), vansh_points[:,2]) #Vertical vanishing point = y-direction\n",
    "    R3 = lambda3*np.dot(np.linalg.inv(K), vansh_points[:,0]) #Left vansihing point = z-direction\n",
    "    R = np.vstack((np.vstack((R1, R2)), R3))\n",
    "    rotation_matrix = R.T\n",
    "    print ('Rotation Matrix = ', rotation_matrix)\n",
    "    return rotation_matrix"
   ]
  },
  {
   "cell_type": "code",
   "execution_count": 62,
   "metadata": {},
   "outputs": [],
   "source": [
    "#Takes the input as vanishing points, the coordinates of the person and the object (for which we need to estimate the height)\n",
    "def estimate_height(vansh_points, coords_person, coords_object, person_height):\n",
    "    \"\"\"\n",
    "    Estimates height for a specific object using the recorded coordinates. You might need to plot additional images here for\n",
    "    your report.\n",
    "    \"\"\"\n",
    "    b = coords_object[:,1]\n",
    "    r = coords_object[:,0]\n",
    "    b0 = coords_person[:, 1]\n",
    "    t0 = coords_person[:, 0]\n",
    "    vx = vansh_points[:,0]\n",
    "    vy = vansh_points[:,1]\n",
    "    vz = vansh_points[:,2]\n",
    "    v = np.cross(np.cross(b, b0), np.cross(vx, vy))\n",
    "    v_normalized = v/v[2]\n",
    "    print ('vx =', vx, 'v = ', v_normalized, 'vz = ', vz)\n",
    "    t = np.cross(np.cross(v_normalized, t0), np.cross(r, b))\n",
    "    t_normalized = t/t[2]\n",
    "    print ('b =', b, 'r=', r, 't=', t_normalized)\n",
    "    #Computing the cross ratio\n",
    "    ratio = (np.linalg.norm(t_normalized-b)*np.linalg.norm(vz-r))/(np.linalg.norm(r-b)*np.linalg.norm(vz-t_normalized)) \n",
    "    print ('cross ratio = ', ratio)\n",
    "    object_height = person_height/ratio\n",
    "    #Returns object height in inches\n",
    "    return object_height"
   ]
  },
  {
   "cell_type": "markdown",
   "metadata": {},
   "source": [
    "# Main function"
   ]
  },
  {
   "cell_type": "code",
   "execution_count": 47,
   "metadata": {},
   "outputs": [
    {
     "name": "stdout",
     "output_type": "stream",
     "text": [
      "Getting vanishing point 0\n",
      "Set at least 3 lines to compute vanishing point\n",
      "Click the two endpoints, use the right key to undo, and use the middle key to stop input\n",
      "Click the two endpoints, use the right key to undo, and use the middle key to stop input\n",
      "Click the two endpoints, use the right key to undo, and use the middle key to stop input\n",
      "Click the two endpoints, use the right key to undo, and use the middle key to stop input\n",
      "Vanishing Point =  [ 36.91624027 208.88281338   1.        ]\n",
      "Getting vanishing point 1\n",
      "Set at least 3 lines to compute vanishing point\n",
      "Click the two endpoints, use the right key to undo, and use the middle key to stop input\n",
      "Click the two endpoints, use the right key to undo, and use the middle key to stop input\n",
      "Click the two endpoints, use the right key to undo, and use the middle key to stop input\n",
      "Click the two endpoints, use the right key to undo, and use the middle key to stop input\n",
      "Vanishing Point =  [1.35959484e+03 2.28755114e+02 1.00000000e+00]\n",
      "Getting vanishing point 2\n",
      "Set at least 3 lines to compute vanishing point\n",
      "Click the two endpoints, use the right key to undo, and use the middle key to stop input\n",
      "Click the two endpoints, use the right key to undo, and use the middle key to stop input\n",
      "Click the two endpoints, use the right key to undo, and use the middle key to stop input\n",
      "Click the two endpoints, use the right key to undo, and use the middle key to stop input\n",
      "Click the two endpoints, use the right key to undo, and use the middle key to stop input\n",
      "Vanishing Point =  [5.25018867e+02 8.36349474e+03 1.00000000e+00]\n",
      "Horizon line [11250863.57649941  -199081.36321397  -275551.21735547]\n"
     ]
    }
   ],
   "source": [
    "im = np.asarray(Image.open('CSL.jpg'))\n",
    "\n",
    "# Part 1\n",
    "# Get vanishing points for each of the directions\n",
    "num_vpts = 3\n",
    "vpts = np.zeros((3, num_vpts))\n",
    "for i in range(num_vpts):\n",
    "    print('Getting vanishing point %d' % i)\n",
    "    # Get at least three lines from user input\n",
    "    n, lines, centers = get_input_lines(im)\n",
    "    # <YOUR IMPLEMENTATION> Solve for vanishing point\n",
    "    vpts[:, i] = get_vanishing_point(n, lines, centers) #Giving vanishing lines as input\n",
    "    # Plot the lines and the vanishing point\n",
    "    plot_lines_and_vp(im, lines, vpts[:, i])\n",
    "\n",
    "# <YOUR IMPLEMENTATION> Get the ground horizon line\n",
    "horizon_line = get_horizon_line(vpts) #Giving vanishing points as input\n",
    "print ('Horizon line', horizon_line)"
   ]
  },
  {
   "cell_type": "code",
   "execution_count": 30,
   "metadata": {},
   "outputs": [],
   "source": [
    "#Plot the ground horizon line\n",
    "plot_horizon_line(im, vpts) #Giving image and vanishing point coordinates as input"
   ]
  },
  {
   "cell_type": "code",
   "execution_count": 48,
   "metadata": {},
   "outputs": [
    {
     "name": "stdout",
     "output_type": "stream",
     "text": [
      "Coordinates of normalized horizon line  [ 0.99984348 -0.01769199 -0.02448773]\n"
     ]
    }
   ],
   "source": [
    "#Normalizing the horizon line by sqrt(a^2+b^2) such that a^2+b^2 = 1\n",
    "horizon_line_normalized = horizon_line/np.sqrt(horizon_line[0]**2+horizon_line[1]**2)\n",
    "print ('Coordinates of normalized horizon line ', horizon_line_normalized)"
   ]
  },
  {
   "cell_type": "code",
   "execution_count": 49,
   "metadata": {},
   "outputs": [
    {
     "name": "stdout",
     "output_type": "stream",
     "text": [
      "1.0*x**2*z**2 - 1396.51108449084*x*z**2 + 1.0*y**2*z**2 - 437.637927802021*y*z**2 + 97974.1418106742*z**2 + 1.0 1.0*x**2*z**2 - 561.935107476177*x*z**2 + 1.0*y**2*z**2 - 8572.37755289902*y*z**2 + 1766372.03354564*z**2 + 1.0 1.0*x**2*z**2 - 1884.61371143309*x*z**2 + 1.0*y**2*z**2 - 8592.24985393626*y*z**2 + 2627005.14106401*z**2 + 1.0\n",
      "[(646.596322951620, 271.432369253008, -0.00152139598687154), (646.596322951620, 271.432369253008, 0.00152139598687154)]\n",
      "u0 =  646.596322951620 v0 =  271.432369253008 f =  657.291072560478\n"
     ]
    }
   ],
   "source": [
    "# Part 2\n",
    "#Solve for the camera parameters (f, u, v)\n",
    "f, u, v = get_camera_parameters(vpts) #Giving vanishing points as input"
   ]
  },
  {
   "cell_type": "code",
   "execution_count": 61,
   "metadata": {},
   "outputs": [
    {
     "name": "stdout",
     "output_type": "stream",
     "text": [
      "Rotation Matrix =  [[ 0.73453504 -0.01497329 -0.67840554]\n",
      " [-0.04396635  0.99660561 -0.06960038]\n",
      " [ 0.67714492  0.08095093  0.73138342]]\n"
     ]
    }
   ],
   "source": [
    "# Part 3\n",
    "# Solve for the rotation matrix\n",
    "R = get_rotation_matrix(vpts, f, u, v) #Giving vanishing points and f, u, v as input\n",
    "\n",
    "#Check that R is orthogonal matrix - last row may be all 1s"
   ]
  },
  {
   "cell_type": "code",
   "execution_count": 52,
   "metadata": {},
   "outputs": [
    {
     "name": "stdout",
     "output_type": "stream",
     "text": [
      "Click on the top coordinate of person\n",
      "Click on the bottom coordinate of person\n",
      "Click on the top coordinate of CSL building\n",
      "Click on the bottom coordinate of CSL building\n",
      "Click on the top coordinate of the spike statue\n",
      "Click on the bottom coordinate of the spike statue\n",
      "Click on the top coordinate of the lamp posts\n",
      "Click on the bottom coordinate of the lamp posts\n"
     ]
    }
   ],
   "source": [
    "# Part 4\n",
    "# Record image coordinates for each object and store in map\n",
    "objects = ('person', 'CSL building', 'the spike statue', 'the lamp posts')\n",
    "coords = dict()\n",
    "for obj in objects:\n",
    "    coords[obj] = get_top_and_bottom_coordinates(im, obj)"
   ]
  },
  {
   "cell_type": "code",
   "execution_count": 63,
   "metadata": {},
   "outputs": [
    {
     "name": "stdout",
     "output_type": "stream",
     "text": [
      "Person Height =  5.5\n"
     ]
    },
    {
     "ename": "NameError",
     "evalue": "name 'objects' is not defined",
     "output_type": "error",
     "traceback": [
      "\u001b[1;31m---------------------------------------------------------------------------\u001b[0m",
      "\u001b[1;31mNameError\u001b[0m                                 Traceback (most recent call last)",
      "\u001b[1;32m<ipython-input-63-7933765936db>\u001b[0m in \u001b[0;36m<module>\u001b[1;34m\u001b[0m\n\u001b[0;32m      3\u001b[0m \u001b[1;32mfor\u001b[0m \u001b[0mperson_height\u001b[0m \u001b[1;32min\u001b[0m \u001b[0mperson_heights\u001b[0m\u001b[1;33m:\u001b[0m\u001b[1;33m\u001b[0m\u001b[1;33m\u001b[0m\u001b[0m\n\u001b[0;32m      4\u001b[0m     \u001b[0mprint\u001b[0m \u001b[1;33m(\u001b[0m\u001b[1;34m'Person Height = '\u001b[0m\u001b[1;33m,\u001b[0m \u001b[0mperson_height\u001b[0m\u001b[1;33m)\u001b[0m\u001b[1;33m\u001b[0m\u001b[1;33m\u001b[0m\u001b[0m\n\u001b[1;32m----> 5\u001b[1;33m     \u001b[1;32mfor\u001b[0m \u001b[0mobj\u001b[0m \u001b[1;32min\u001b[0m \u001b[0mobjects\u001b[0m\u001b[1;33m[\u001b[0m\u001b[1;36m1\u001b[0m\u001b[1;33m:\u001b[0m\u001b[1;33m]\u001b[0m\u001b[1;33m:\u001b[0m\u001b[1;33m\u001b[0m\u001b[1;33m\u001b[0m\u001b[0m\n\u001b[0m\u001b[0;32m      6\u001b[0m         \u001b[0mprint\u001b[0m\u001b[1;33m(\u001b[0m\u001b[1;34m'Estimating height of %s'\u001b[0m \u001b[1;33m%\u001b[0m \u001b[0mobj\u001b[0m\u001b[1;33m)\u001b[0m\u001b[1;33m\u001b[0m\u001b[1;33m\u001b[0m\u001b[0m\n\u001b[0;32m      7\u001b[0m         \u001b[0mheight\u001b[0m \u001b[1;33m=\u001b[0m \u001b[0mestimate_height\u001b[0m\u001b[1;33m(\u001b[0m\u001b[0mvpts\u001b[0m\u001b[1;33m,\u001b[0m \u001b[0mcoords\u001b[0m\u001b[1;33m[\u001b[0m\u001b[1;34m'person'\u001b[0m\u001b[1;33m]\u001b[0m\u001b[1;33m,\u001b[0m \u001b[0mcoords\u001b[0m\u001b[1;33m[\u001b[0m\u001b[0mobj\u001b[0m\u001b[1;33m]\u001b[0m\u001b[1;33m,\u001b[0m \u001b[0mperson_height\u001b[0m\u001b[1;33m)\u001b[0m\u001b[1;33m\u001b[0m\u001b[1;33m\u001b[0m\u001b[0m\n",
      "\u001b[1;31mNameError\u001b[0m: name 'objects' is not defined"
     ]
    }
   ],
   "source": [
    "#Estimate heights\n",
    "person_heights = [5.5, 6] # 5feet 6 inches = 5.5 feet\n",
    "for person_height in person_heights:\n",
    "    print ('Person Height = ', person_height)\n",
    "    for obj in objects[1:]:\n",
    "        print('Estimating height of %s' % obj)\n",
    "        height = estimate_height(vpts, coords['person'], coords[obj], person_height) \n",
    "        #Giving vanishing points, coordinates of person and object as input\n",
    "        print ('Height of', obj, ' = ', height, 'feet')"
   ]
  },
  {
   "cell_type": "code",
   "execution_count": null,
   "metadata": {
    "collapsed": true
   },
   "outputs": [],
   "source": []
  }
 ],
 "metadata": {
  "kernelspec": {
   "display_name": "Python 3",
   "language": "python",
   "name": "python3"
  },
  "language_info": {
   "codemirror_mode": {
    "name": "ipython",
    "version": 3
   },
   "file_extension": ".py",
   "mimetype": "text/x-python",
   "name": "python",
   "nbconvert_exporter": "python",
   "pygments_lexer": "ipython3",
   "version": "3.7.3"
  }
 },
 "nbformat": 4,
 "nbformat_minor": 2
}
