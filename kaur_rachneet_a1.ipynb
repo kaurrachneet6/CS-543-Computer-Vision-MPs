{
 "cells": [
  {
   "cell_type": "markdown",
   "metadata": {},
   "source": [
    "# Common imports"
   ]
  },
  {
   "cell_type": "code",
   "execution_count": null,
   "metadata": {
    "collapsed": true
   },
   "outputs": [],
   "source": [
    "#%matplotlib notebook\n",
    "import os\n",
    "import sys\n",
    "import glob\n",
    "import re\n",
    "import numpy as np\n",
    "import matplotlib\n",
    "import matplotlib.pyplot as plt\n",
    "from mpl_toolkits.mplot3d import Axes3D\n",
    "import time\n",
    "from PIL import Image\n",
    "import random"
   ]
  },
  {
   "cell_type": "markdown",
   "metadata": {},
   "source": [
    "# Provided functions\n",
    "### Image loading and saving"
   ]
  },
  {
   "cell_type": "code",
   "execution_count": null,
   "metadata": {
    "collapsed": true
   },
   "outputs": [],
   "source": [
    "def LoadFaceImages(pathname, subject_name, num_images):\n",
    "    \"\"\"\n",
    "    Load the set of face images.  \n",
    "    The routine returns\n",
    "        ambimage: image illuminated under the ambient lighting\n",
    "        imarray: a 3-D array of images, h x w x Nimages\n",
    "        lightdirs: Nimages x 3 array of light source directions\n",
    "    \"\"\"\n",
    "\n",
    "    def load_image(fname):\n",
    "        return np.asarray(Image.open(fname))\n",
    "\n",
    "    def fname_to_ang(fname):\n",
    "        yale_name = os.path.basename(fname)\n",
    "        return int(yale_name[12:16]), int(yale_name[17:20])\n",
    "\n",
    "    def sph2cart(az, el, r):\n",
    "        rcos_theta = r * np.cos(el)\n",
    "        x = rcos_theta * np.cos(az)\n",
    "        y = rcos_theta * np.sin(az)\n",
    "        z = r * np.sin(el)\n",
    "        return x, y, z\n",
    "\n",
    "    ambimage = load_image(\n",
    "        os.path.join(pathname, subject_name + '_P00_Ambient.pgm'))\n",
    "    im_list = glob.glob(os.path.join(pathname, subject_name + '_P00A*.pgm'))\n",
    "    if num_images <= len(im_list):\n",
    "        im_sub_list = np.random.choice(im_list, num_images, replace=False)\n",
    "    else:\n",
    "        print(\n",
    "            'Total available images is less than specified.\\nProceeding with %d images.\\n'\n",
    "            % len(im_list))\n",
    "        im_sub_list = im_list\n",
    "    im_sub_list.sort()\n",
    "    imarray = np.stack([load_image(fname) for fname in im_sub_list], axis=-1)\n",
    "    Ang = np.array([fname_to_ang(fname) for fname in im_sub_list])\n",
    "\n",
    "    x, y, z = sph2cart(Ang[:, 0] / 180.0 * np.pi, Ang[:, 1] / 180.0 * np.pi, 1)\n",
    "    lightdirs = np.stack([y, z, x], axis=-1)\n",
    "    return ambimage, imarray, lightdirs"
   ]
  },
  {
   "cell_type": "code",
   "execution_count": null,
   "metadata": {
    "collapsed": true
   },
   "outputs": [],
   "source": [
    "def save_outputs(subject_name, albedo_image, surface_normals):\n",
    "    im = Image.fromarray((albedo_image*255).astype(np.uint8))\n",
    "    im.save(\"%s_albedo.jpg\" % subject_name)\n",
    "    im = Image.fromarray((surface_normals[:,:,0]*128+128).astype(np.uint8))\n",
    "    im.save(\"%s_normals_x.jpg\" % subject_name)\n",
    "    im = Image.fromarray((surface_normals[:,:,1]*128+128).astype(np.uint8))\n",
    "    im.save(\"%s_normals_y.jpg\" % subject_name)\n",
    "    im = Image.fromarray((surface_normals[:,:,2]*128+128).astype(np.uint8))\n",
    "    im.save(\"%s_normals_z.jpg\" % subject_name)"
   ]
  },
  {
   "cell_type": "markdown",
   "metadata": {},
   "source": [
    "### Plot the height map"
   ]
  },
  {
   "cell_type": "code",
   "execution_count": null,
   "metadata": {
    "collapsed": true
   },
   "outputs": [],
   "source": [
    "def set_aspect_equal_3d(ax):\n",
    "    \"\"\"https://stackoverflow.com/questions/13685386\"\"\"\n",
    "    \"\"\"Fix equal aspect bug for 3D plots.\"\"\"\n",
    "    xlim = ax.get_xlim3d()\n",
    "    ylim = ax.get_ylim3d()\n",
    "    zlim = ax.get_zlim3d()\n",
    "    from numpy import mean\n",
    "    xmean = mean(xlim)\n",
    "    ymean = mean(ylim)\n",
    "    zmean = mean(zlim)\n",
    "    plot_radius = max([\n",
    "        abs(lim - mean_)\n",
    "        for lims, mean_ in ((xlim, xmean), (ylim, ymean), (zlim, zmean))\n",
    "        for lim in lims\n",
    "    ])\n",
    "    ax.set_xlim3d([xmean - plot_radius, xmean + plot_radius])\n",
    "    ax.set_ylim3d([ymean - plot_radius, ymean + plot_radius])\n",
    "    ax.set_zlim3d([zmean - plot_radius, zmean + plot_radius])\n",
    "\n",
    "\n",
    "def display_output(albedo_image, height_map):\n",
    "    #fig = plt.figure()\n",
    "    #plt.imshow(albedo_image, cmap='gray')\n",
    "    #plt.axis('off')\n",
    "    \n",
    "    \n",
    "    from importlib import reload\n",
    "    reload(plt)\n",
    "    %matplotlib notebook\n",
    "    \n",
    "    fig = plt.figure(figsize = (7, 7))\n",
    "    ax = fig.gca(projection='3d')\n",
    "    ax.view_init(20, 20)\n",
    "    X = np.arange(albedo_image.shape[0])\n",
    "    Y = np.arange(albedo_image.shape[1])\n",
    "    X, Y = np.meshgrid(Y, X)\n",
    "    H = np.flipud(np.fliplr(height_map))\n",
    "    A = np.flipud(np.fliplr(albedo_image))\n",
    "    A = np.stack([A, A, A], axis=-1)\n",
    "    ax.xaxis.set_ticks([])\n",
    "    ax.xaxis.set_label_text('Z')\n",
    "    ax.yaxis.set_ticks([])\n",
    "    ax.yaxis.set_label_text('X')\n",
    "    ax.zaxis.set_ticks([])\n",
    "    ax.yaxis.set_label_text('Y')\n",
    "    surf = ax.plot_surface(\n",
    "        H, X, Y, cmap='gray', facecolors=A, linewidth=0, antialiased=False)\n",
    "    set_aspect_equal_3d(ax)"
   ]
  },
  {
   "cell_type": "markdown",
   "metadata": {},
   "source": [
    "### Plot the surface norms. "
   ]
  },
  {
   "cell_type": "code",
   "execution_count": null,
   "metadata": {
    "collapsed": true
   },
   "outputs": [],
   "source": [
    "def plot_surface_normals(surface_normals):\n",
    "    \"\"\"\n",
    "    surface_normals: h x w x 3 matrix.\n",
    "    \"\"\"\n",
    "    fig = plt.figure(figsize = (15, 8))\n",
    "    ax = plt.subplot(1, 3, 1)\n",
    "    ax.axis('off')\n",
    "    ax.set_title('X')\n",
    "    im = ax.imshow(surface_normals[:,:,0], 'jet', vmin = -1, vmax = 1)\n",
    "    ax = plt.subplot(1, 3, 2)\n",
    "    ax.axis('off')\n",
    "    ax.set_title('Y')\n",
    "    im = ax.imshow(surface_normals[:,:,1], 'jet', vmin = -1, vmax = 1)\n",
    "    ax = plt.subplot(1, 3, 3)\n",
    "    ax.axis('off')\n",
    "    ax.set_title('Z')\n",
    "    im = ax.imshow(surface_normals[:,:,2], 'jet', vmin = -1, vmax = 1)"
   ]
  },
  {
   "cell_type": "markdown",
   "metadata": {},
   "source": [
    "# Your implementation"
   ]
  },
  {
   "cell_type": "code",
   "execution_count": null,
   "metadata": {
    "collapsed": true
   },
   "outputs": [],
   "source": [
    "def preprocess(ambimage, imarray):\n",
    "    \"\"\"\n",
    "    preprocess the data: \n",
    "        1. subtract ambient_image from each image in imarray.\n",
    "        2. make sure no pixel is less than zero.\n",
    "        3. rescale values in imarray to be between 0 and 1.\n",
    "    Inputs:\n",
    "        ambimage: h x w\n",
    "        imarray: h x w x Nimages\n",
    "    Outputs:\n",
    "        processed_imarray: h x w x Nimages\n",
    "    \"\"\"\n",
    "    imarray_float = np.float64(imarray)\n",
    "    ambient_image_float = np.float64(ambient_image)\n",
    "    \n",
    "    #subtract ambient_image from each image in imarray\n",
    "    imarray_substracted = (imarray_float.transpose((2, 0, 1)) - ambient_image_float).transpose((1, 2, 0)) \n",
    "    \n",
    "    imarray_substracted = imarray_substracted.clip(min = 0.) # make sure no pixel is less than zero\n",
    "    \n",
    "    processed_imarray=imarray_substracted/255.  #rescale values in imarray to be between 0 and 1  \n",
    "    #Max - Min normalization, where min = 0, max = 1: x = (x-min)/(max-min)\n",
    "    \n",
    "    return processed_imarray"
   ]
  },
  {
   "cell_type": "code",
   "execution_count": null,
   "metadata": {
    "collapsed": true
   },
   "outputs": [],
   "source": [
    "def photometric_stereo(imarray, light_dirs):\n",
    "    \"\"\"\n",
    "    Inputs:\n",
    "        imarray:  h x w x Nimages\n",
    "        light_dirs: Nimages x 3\n",
    "    Outputs:\n",
    "        albedo_image: h x w\n",
    "        surface_norms: h x w x 3\n",
    "    \"\"\"\n",
    "    imarray_stack = imarray.transpose(2, 0, 1).reshape((imarray.shape[2], imarray.shape[0]*imarray.shape[1]))\n",
    "    #For each imarray.shape[0]*imarray.shape[1] pixel, 64*1 array stacked horizontally, i.e. 64*x array \n",
    "    #light_dirs - 64*3 array\n",
    "    \n",
    "    g_stacked = np.linalg.lstsq(light_dirs, imarray_stack, rcond=None)[0]\n",
    "    #Least squares solution (3*x array - 3*1 for each pixel) \n",
    "    \n",
    "    g_stacked_norm = np.linalg.norm(g_stacked, axis = 0)\n",
    "    albedo_image = g_stacked_norm.reshape(imarray.shape[0], imarray.shape[1]) \n",
    "    #Maginitude of least square solution - reshaped to h*w\n",
    "    \n",
    "    surface_normals = (g_stacked/g_stacked_norm).T.reshape((imarray.shape[0], imarray.shape[1], 3))\n",
    "    #Surface normals reshaped to h*w*3\n",
    "    return albedo_image, surface_normals"
   ]
  },
  {
   "cell_type": "code",
   "execution_count": null,
   "metadata": {
    "collapsed": true
   },
   "outputs": [],
   "source": [
    "def get_surface(surface_normals, integration_method):\n",
    "    \"\"\"\n",
    "    Inputs:\n",
    "        surface_normals:h x w x 3\n",
    "        integration_method: string in ['average', 'column', 'row', 'random']\n",
    "    Outputs:\n",
    "        height_map: h x w\n",
    "    \"\"\"\n",
    "    \n",
    "    #Calculating the partial derivatives f_x and f_y\n",
    "    f_x = surface_normals[:,:,1]/surface_normals[:,:,2]\n",
    "    f_y = surface_normals[:,:,0]/surface_normals[:,:,2]\n",
    "\n",
    "    #Calculating the cumulative sums for the integrals \n",
    "    f_x_cumulative = np.cumsum(f_x, axis=0)\n",
    "    f_y_cumulative = np.cumsum(f_y, axis=1)\n",
    "    \n",
    "    #Defining a column and a row of zeros for randomized method \n",
    "    zeros_y = np.zeros((f_y_cumulative.shape[0],1))\n",
    "    zeros_x = np.zeros((1, f_x_cumulative.shape[1]))\n",
    "    \n",
    "    #For random method, computing a new f_y_cumulative and f_x_cumulative \n",
    "    f_y_cumulative_modified = np.copy(f_y_cumulative)\n",
    "    f_x_cumulative_modified = np.copy(f_x_cumulative)\n",
    "    \n",
    "    integral_row= f_y_cumulative[0, :] + f_x_cumulative #Going horizontally forward and then vertically down \n",
    "    integral_col= f_x_cumulative[:, 0].reshape(-1,1) + f_y_cumulative #Going vertically down and then horizontally forward \n",
    "    \n",
    "    if integration_method == 'row':\n",
    "        height_map = integral_row\n",
    "    \n",
    "    if integration_method == 'column':\n",
    "        height_map = integral_col\n",
    "        \n",
    "    if integration_method == 'average':\n",
    "        height_map = 0.5*(integral_row + integral_col)  \n",
    "        \n",
    "    if integration_method == 'random':\n",
    "        num_random_paths = 10000\n",
    "        for i in range(num_random_paths): #Calculating integrals from 50 randomized paths and then averaging the results \n",
    "            \n",
    "            #For random method, computing a new f_y_cumulative and f_x_cumulative \n",
    "            f_y_cumulative_modified = np.copy(f_y_cumulative)\n",
    "            f_x_cumulative_modified = np.copy(f_x_cumulative)\n",
    "            \n",
    "            #Choosing a random x, y starting point \n",
    "            start_x, start_y = random.randint(0, f_x.shape[0]-1), random.randint(0, f_x.shape[1]-1)\n",
    "            \n",
    "            #Calculating the cumulative partial derivatives from the selected randomized point \n",
    "            #Nothing to be done for f_y_cumulative if starting y axis = 0\n",
    "            if(start_y>0):\n",
    "                #Calculting the cumulative sum after flipping \n",
    "                f_y_flip_cumulative = np.flip(np.flip(f_y[:, :start_y], axis = 1).cumsum(axis = 1), axis = 1)\n",
    "                #Moving in the negative direction \n",
    "                f_y_cumulative_modified[:, :start_y] = f_y[:, start_y].reshape(-1,1) - f_y_flip_cumulative\n",
    "                f_y_cumulative_modified[:, start_y:] = f_y_cumulative[:, start_y:] - f_y_cumulative[:, start_y-1].reshape(-1,1)\n",
    "            \n",
    "            #Nothing to be done for f_x_cumulative if starting x axis = 0\n",
    "            if (start_x >0):   \n",
    "                #Calculting the cumulative sum after flipping \n",
    "                f_x_flip_cumulative = np.flip(np.flip(f_x[:start_x, :], axis = 0).cumsum(axis = 0), axis = 0)\n",
    "                #Moving in the negative direction \n",
    "                f_x_cumulative_modified[:start_x, :] = f_x[start_x, :] - f_x_flip_cumulative \n",
    "                f_x_cumulative_modified[start_x:, :] = f_x_cumulative[start_x:, :] - f_x_cumulative[start_x-1, :]\n",
    "            \n",
    "            #Choosing a random path < row wise - 0, column wise- 1>\n",
    "            method = random.randint(0, 1)\n",
    "            #Calculating the height map row_wise \n",
    "            if method ==0:\n",
    "                integral_row_randomstart = f_y_cumulative_modified[start_x, :] + f_x_cumulative_modified\n",
    "                \n",
    "                if (i==0):\n",
    "                    height_map=integral_row_randomstart\n",
    "                else:\n",
    "                    height_map+=integral_row_randomstart\n",
    "            #Calculating the height map column_wise \n",
    "            if method ==1:\n",
    "                integral_col_randomstart = f_x_cumulative_modified[:, start_y].reshape(-1,1) + f_y_cumulative_modified\n",
    "                \n",
    "                if (i==0):\n",
    "                    height_map=integral_col_randomstart\n",
    "                else:\n",
    "                    height_map+=integral_col_randomstart\n",
    "        #Averaging the height maps obtained in 50 randomized paths\n",
    "        height_map/=num_random_paths\n",
    "    return height_map"
   ]
  },
  {
   "cell_type": "markdown",
   "metadata": {},
   "source": [
    "# Main function"
   ]
  },
  {
   "cell_type": "code",
   "execution_count": null,
   "metadata": {},
   "outputs": [],
   "source": [
    "root_path = 'C:\\\\Users\\\\Rachneet Kaur\\\\Desktop\\\\UIUC\\\\UIUC Spring 2019\\\\CS 543 CV\\\\MP1\\\\croppedyale\\\\'\n",
    "subject_name = 'yaleB05'\n",
    "integration_method = 'average'\n",
    "save_flag = True\n",
    "\n",
    "full_path = '%s%s' % (root_path, subject_name)\n",
    "ambient_image, imarray, light_dirs = LoadFaceImages(full_path, subject_name,\n",
    "                                                    64)\n",
    "#ambient_image - x*y shaped image\n",
    "#imarray - x*y*64 shaped 64 images \n",
    "#light_dirs - 64*3shaped 64 light directions \n",
    "\n",
    "processed_imarray = preprocess(ambient_image, imarray)\n",
    "albedo_image, surface_normals = photometric_stereo(processed_imarray,\n",
    "                                                   light_dirs)\n",
    "avg = 0.\n",
    "runs = 1\n",
    "for i in range(runs):\n",
    "    start_time = time.time()\n",
    "    height_map = get_surface(surface_normals, 'average')\n",
    "    avg+=(time.time() - start_time)\n",
    "print ('Time taken to generate height map = ', avg/runs) \n",
    "if save_flag:\n",
    "    save_outputs(subject_name, albedo_image, surface_normals)\n"
   ]
  },
  {
   "cell_type": "code",
   "execution_count": null,
   "metadata": {},
   "outputs": [],
   "source": [
    "#Plotting the albedo image\n",
    "fig = plt.figure()\n",
    "plt.imshow(albedo_image, cmap='gray')\n",
    "plt.axis('off')\n",
    "plt.title('Albedo for yaleB07')\n",
    "plt.show()"
   ]
  },
  {
   "cell_type": "code",
   "execution_count": null,
   "metadata": {},
   "outputs": [],
   "source": [
    "#Plotting the surface normals \n",
    "plot_surface_normals(surface_normals)"
   ]
  },
  {
   "cell_type": "code",
   "execution_count": null,
   "metadata": {
    "scrolled": false
   },
   "outputs": [],
   "source": [
    "#Displaying the albedo image and the 3D integrated height map \n",
    "display_output(albedo_image, height_map)"
   ]
  },
  {
   "cell_type": "code",
   "execution_count": null,
   "metadata": {
    "collapsed": true
   },
   "outputs": [],
   "source": []
  },
  {
   "cell_type": "code",
   "execution_count": null,
   "metadata": {
    "collapsed": true
   },
   "outputs": [],
   "source": []
  }
 ],
 "metadata": {
  "kernelspec": {
   "display_name": "Python 3",
   "language": "python",
   "name": "python3"
  },
  "language_info": {
   "codemirror_mode": {
    "name": "ipython",
    "version": 3
   },
   "file_extension": ".py",
   "mimetype": "text/x-python",
   "name": "python",
   "nbconvert_exporter": "python",
   "pygments_lexer": "ipython3",
   "version": "3.6.6"
  }
 },
 "nbformat": 4,
 "nbformat_minor": 2
}
